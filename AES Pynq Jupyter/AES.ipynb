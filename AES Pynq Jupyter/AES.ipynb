{
 "cells": [
  {
   "cell_type": "code",
   "execution_count": 1,
   "metadata": {},
   "outputs": [
    {
     "data": {
      "application/javascript": [
       "\n",
       "require(['notebook/js/codecell'], function(codecell) {\n",
       "  codecell.CodeCell.options_default.highlight_modes[\n",
       "      'magic_text/x-csrc'] = {'reg':[/^%%microblaze/]};\n",
       "  Jupyter.notebook.events.one('kernel_ready.Kernel', function(){\n",
       "      Jupyter.notebook.get_cells().map(function(cell){\n",
       "          if (cell.cell_type == 'code'){ cell.auto_highlight(); } }) ;\n",
       "  });\n",
       "});\n"
      ]
     },
     "metadata": {},
     "output_type": "display_data"
    }
   ],
   "source": [
    "from time import sleep\n",
    "from pynq.overlays.base import BaseOverlay\n",
    "base = BaseOverlay(\"base.bit\")\n",
    "\n",
    "# pull in the customlibrary\n",
    "%run pyaes.ipynb"
   ]
  },
  {
   "cell_type": "code",
   "execution_count": 2,
   "metadata": {},
   "outputs": [],
   "source": [
    "led0 = base.leds[0] #Corresponds to LED LD0\n",
    "led1 = base.leds[1] #Corresponds to LED LD1\n",
    "led2 = base.leds[2] #Corresponds to LED LD2\n",
    "led3 = base.leds[3] #Corresponds to LED LD3"
   ]
  },
  {
   "cell_type": "code",
   "execution_count": 3,
   "metadata": {},
   "outputs": [],
   "source": [
    "sw0 = base.switches[0] #Corresponds to SW0\n",
    "sw1 = base.switches[1] #Corresponds to SW1"
   ]
  },
  {
   "cell_type": "code",
   "execution_count": 4,
   "metadata": {},
   "outputs": [],
   "source": [
    "btn0 = base.buttons[0] # button 0 hopefully\n",
    "btn1 = base.buttons[1]\n",
    "btn2 = base.buttons[2]\n",
    "btn3 = base.buttons[3]"
   ]
  },
  {
   "cell_type": "code",
   "execution_count": 7,
   "metadata": {},
   "outputs": [
    {
     "name": "stdout",
     "output_type": "stream",
     "text": [
      "Welcome to the pynq z2 board test\n"
     ]
    }
   ],
   "source": [
    "print(\"Welcome to the pynq z2 board test\")"
   ]
  },
  {
   "cell_type": "code",
   "execution_count": null,
   "metadata": {},
   "outputs": [
    {
     "name": "stdout",
     "output_type": "stream",
     "text": [
      "hi\n",
      "data to enrypt: hi\n",
      "key\n",
      "key: key0000000000000\n",
      "b't\\xce\\x82\\x9c=@\\x0f4\\xea\\xdbV\\xd2?\\xe6\\xa4\\xc4'\n"
     ]
    }
   ],
   "source": [
    "# switch based LED toggling for test\n",
    "data= ''\n",
    "while(True):  # All the code below while(True) runs forever\n",
    "    if sw1.read():\n",
    "        led2.toggle()\n",
    "        led3.toggle()\n",
    "        if btn0.read():\n",
    "            led1.toggle()\n",
    "            led0.toggle()\n",
    "        sleep(2)\n",
    "        \n",
    "    # run the input read and encryption\n",
    "    else:\n",
    "        if btn0.read():\n",
    "            data = \"\"\n",
    "        # read in data if the sw0 is on\n",
    "        elif btn1.read():\n",
    "            data += input()\n",
    "            print(f\"data to enrypt: {data}\")\n",
    "        elif btn2.read():\n",
    "            key = input()\n",
    "            while len(key) < 16:\n",
    "                key+='0'\n",
    "            print(f\"key: {key}\")\n",
    "        # do the encryption and print if btn1 is pressed\n",
    "        elif btn3.read():\n",
    "            key = b'aesEncryptionKey'\n",
    "            plaintext = str.encode(data)\n",
    "\n",
    "            print(\"Encrypting {plaintext} with key {key}\")\n",
    "            encrypter = Encrypter(AESModeOfOperationECB(key))\n",
    "            ciphertext = encrypter.feed(plaintext)\n",
    "            ciphertext += encrypter.feed()\n",
    "\n",
    "            print( repr(ciphertext))\n",
    "            sleep(1)\n",
    "\n",
    "           \n",
    "            # We can encrypt one line at a time, regardles of length\n",
    "\n",
    "            # We can decrypt the cipher text in chunks (here we split it in half)\n",
    "#             decrypter = pyaes.Decrypter(pyaes.AESModeOfOperationECB(key))\n",
    "#             decrypted = decrypter.feed(ciphertext[:len(ciphertext) / 2])\n",
    "#             decrypted += decrypter.feed(ciphertext[len(ciphertext) / 2:])\n",
    "#             decrypted += decrypter.feed()\n",
    "    \n",
    "        \n",
    "    # button four starts the basic hello world aes test\n",
    "    if sw0.read():\n",
    "        print(\"SW1 controls whether lights or encryption (on for lights)\")\n",
    "        print(\"In encryption mode:\")\n",
    "        print(\"\\t BTN0 resets the data\")\n",
    "        print(\"\\t BTN1 orders input of data\\n\")\n",
    "        print(\"\\t BTN2 allows key input (padded to 16 characters)\")\n",
    "        print(\"\\t BTN3 does encryption\")\n",
    "              \n",
    "        print(\"Sample encryption and help display:\")\n",
    "        key = b'aesEncryptionKey'\n",
    "        plaintext = b'hello, world0000'\n",
    "\n",
    "        aes = AESModeOfOperationECB(key)\n",
    "        ciphertext = aes.encrypt(plaintext)\n",
    "\n",
    "        print( repr(ciphertext))\n",
    "\n",
    "        decrypted = aes.decrypt(ciphertext)\n",
    "        print (f\"match? {decrypted == plaintext}\")\n",
    "        sleep(5)\n",
    "    \n"
   ]
  },
  {
   "cell_type": "code",
   "execution_count": null,
   "metadata": {},
   "outputs": [],
   "source": []
  }
 ],
 "metadata": {
  "kernelspec": {
   "display_name": "Python 3",
   "language": "python",
   "name": "python3"
  },
  "language_info": {
   "codemirror_mode": {
    "name": "ipython",
    "version": 3
   },
   "file_extension": ".py",
   "mimetype": "text/x-python",
   "name": "python",
   "nbconvert_exporter": "python",
   "pygments_lexer": "ipython3",
   "version": "3.6.5"
  }
 },
 "nbformat": 4,
 "nbformat_minor": 4
}

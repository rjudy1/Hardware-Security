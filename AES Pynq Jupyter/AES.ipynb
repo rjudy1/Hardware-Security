{
 "cells": [
  {
   "cell_type": "markdown",
   "metadata": {},
   "source": [
    "The first stage to running an encryption "
   ]
  },
  {
   "cell_type": "code",
   "execution_count": 6,
   "metadata": {},
   "outputs": [
    {
     "name": "stdout",
     "output_type": "stream",
     "text": [
      "Collecting pyserial\n",
      "  Downloading https://files.pythonhosted.org/packages/07/bc/587a445451b253b285629263eb51c2d8e9bcea4fc97826266d186f96f558/pyserial-3.5-py2.py3-none-any.whl (90kB)\n",
      "\u001b[K    100% |████████████████████████████████| 92kB 550kB/s ta 0:00:01    22% |███████▎                        | 20kB 2.7MB/s eta 0:00:01\n",
      "\u001b[?25hInstalling collected packages: pyserial\n",
      "Successfully installed pyserial-3.5\n"
     ]
    }
   ],
   "source": [
    "import sys\n",
    "!{sys.executable} -m pip install pyserial"
   ]
  },
  {
   "cell_type": "code",
   "execution_count": 7,
   "metadata": {},
   "outputs": [
    {
     "data": {
      "application/javascript": [
       "\n",
       "require(['notebook/js/codecell'], function(codecell) {\n",
       "  codecell.CodeCell.options_default.highlight_modes[\n",
       "      'magic_text/x-csrc'] = {'reg':[/^%%microblaze/]};\n",
       "  Jupyter.notebook.events.one('kernel_ready.Kernel', function(){\n",
       "      Jupyter.notebook.get_cells().map(function(cell){\n",
       "          if (cell.cell_type == 'code'){ cell.auto_highlight(); } }) ;\n",
       "  });\n",
       "});\n"
      ]
     },
     "metadata": {},
     "output_type": "display_data"
    }
   ],
   "source": [
    "import time\n",
    "import serial\n",
    "from time import sleep\n",
    "\n",
    "from pynq.overlays.base import BaseOverlay\n",
    "from pynq.lib.arduino import arduino_io\n",
    "\n",
    "base = BaseOverlay('base.bit')\n",
    "\n",
    "# trigger for the pynq on arduino pins a0 and a1\n",
    "trigger_out = arduino_io.Arduino_IO(base.iop_arduino.mb_info, 14, 'out')\n",
    "trigger_in = arduino_io.Arduino_IO(base.iop_arduino.mb_info, 15, 'in')\n",
    "\n",
    "key = b'aesEncryptionKey'  # can change this\n",
    "\n",
    "# pull in the customlibrary\n",
    "%run pyaes.ipynb"
   ]
  },
  {
   "cell_type": "code",
   "execution_count": 8,
   "metadata": {},
   "outputs": [],
   "source": [
    "led0 = base.leds[0] #Corresponds to LED LD0\n",
    "led1 = base.leds[1] #Corresponds to LED LD1\n",
    "led2 = base.leds[2] #Corresponds to LED LD2\n",
    "led3 = base.leds[3] #Corresponds to LED LD3"
   ]
  },
  {
   "cell_type": "code",
   "execution_count": 9,
   "metadata": {},
   "outputs": [],
   "source": [
    "sw0 = base.switches[0] #Corresponds to SW0\n",
    "sw1 = base.switches[1] #Corresponds to SW1"
   ]
  },
  {
   "cell_type": "code",
   "execution_count": 10,
   "metadata": {},
   "outputs": [],
   "source": [
    "btn0 = base.buttons[0] # button 0 hopefully\n",
    "btn1 = base.buttons[1]\n",
    "btn2 = base.buttons[2]\n",
    "btn3 = base.buttons[3]"
   ]
  },
  {
   "cell_type": "code",
   "execution_count": 11,
   "metadata": {},
   "outputs": [],
   "source": [
    "class CWSerial:\n",
    "    def __init__(self, device):\n",
    "        self.device = device\n",
    "        self.connection = None\n",
    "\n",
    "    def configure(self):\n",
    "        self.connection = serial.Serial(\n",
    "            self.device, 38400, timeout=5, bytesize=serial.EIGHTBITS, parity=serial.PARITY_NONE,\n",
    "            stopbits=serial.STOPBITS_ONE, xonxoff=False)\n",
    "        time.sleep(1)\n",
    "\n",
    "    def read():\n",
    "        return self.connection.readline().strip()\n",
    "\n",
    "cw_com = CWSerial(\"/dev/ttyUSB0\")"
   ]
  },
  {
   "cell_type": "code",
   "execution_count": 12,
   "metadata": {},
   "outputs": [
    {
     "name": "stdout",
     "output_type": "stream",
     "text": [
      "Welcome to the pynq z2 board test\n"
     ]
    }
   ],
   "source": [
    "print(\"Welcome to the pynq z2 board test\")\n",
    "mode = 0 # mode 0 is regular input, mode 1 is file input"
   ]
  },
  {
   "cell_type": "markdown",
   "metadata": {},
   "source": [
    "The setup is now complete and we can begin encryptions."
   ]
  },
  {
   "cell_type": "code",
   "execution_count": 18,
   "metadata": {},
   "outputs": [],
   "source": [
    "def encrypt(key, plaintext):\n",
    "    print(f\"Encrypting {plaintext} with key {key}\")\n",
    "    encrypter = Encrypter(AESModeOfOperationECB(key))\n",
    "    ciphertext = encrypter.feed(plaintext)\n",
    "    ciphertext += encrypter.feed()\n",
    "\n",
    "    #            print( repr(ciphertext))\n",
    "    for letter in ciphertext:\n",
    "        print('{:0>2}'.format(str(hex(letter))[2:]), end='')\n",
    "    return ciphertext"
   ]
  },
  {
   "cell_type": "code",
   "execution_count": null,
   "metadata": {},
   "outputs": [
    {
     "name": "stdout",
     "output_type": "stream",
     "text": [
      "hello\n",
      "Encrypting b'hello' with key b'aesEncryptionKey'\n",
      "0570e2d435a33b2d34e7b096a1f1ce53b'\\x05p\\xe2\\xd45\\xa3;-4\\xe7\\xb0\\x96\\xa1\\xf1\\xceS'\n"
     ]
    }
   ],
   "source": [
    "\n",
    "if not mode:\n",
    "    # switch based LED toggling for test\n",
    "    data= ''\n",
    "    key = b'aesEncryptionKey'\n",
    "    while(True):  # All the code below while(True) runs forever\n",
    "        if btn0.read():\n",
    "            print(\"SW1 controls whether lights and encryption or cw encryption\")\n",
    "            print(\"In encryption mode:\")\n",
    "            print(\"\\t BTN0 resets the data\")\n",
    "            print(\"\\t BTN1 orders input of data\\n\")\n",
    "            print(\"\\t BTN2 allows key input (padded to 16 characters)\")\n",
    "            print(\"\\t BTN3 does encryption\")\n",
    "                \n",
    "            print(\"Sample encryption and help display:\")\n",
    "            key = b'aesEncryptionKey'\n",
    "            plaintext = b'hello, world0000'\n",
    "\n",
    "            aes = AESModeOfOperationECB(key)\n",
    "            ciphertext = aes.encrypt(plaintext)\n",
    "\n",
    "            print( repr(ciphertext))\n",
    "            decrypted = aes.decrypt(ciphertext)\n",
    "            print (f\"match? {decrypted == plaintext}\")\n",
    "\n",
    "        elif not sw1.read():\n",
    "            led2.toggle()\n",
    "            led3.toggle()\n",
    "            if btn1.read():\n",
    "                led1.toggle()\n",
    "                led0.toggle()\n",
    "                trigger_out.write(1)\n",
    "                sleep(1)\n",
    "                trigger_out.write(0)\n",
    "                data = input()\n",
    "                x = encrypt(key, str.encode(data))\n",
    "                print(x)\n",
    "\n",
    "            \n",
    "        # run the input read and encryption\n",
    "        else:\n",
    "            if trigger_in.read():\n",
    "                trigger_out.write(1)\n",
    "                sleep(.25)\n",
    "                trigger_out.write(0)\n",
    "                data = cw_com.read()\n",
    "                print(f'data to encrypt {data}')\n",
    "                x = encrypt(key, str.encode(data))\n",
    "                print(x)\n",
    "            \n",
    "#                key = key.encode()"
   ]
  },
  {
   "cell_type": "code",
   "execution_count": null,
   "metadata": {},
   "outputs": [],
   "source": []
  }
 ],
 "metadata": {
  "kernelspec": {
   "display_name": "Python 3",
   "language": "python",
   "name": "python3"
  },
  "language_info": {
   "codemirror_mode": {
    "name": "ipython",
    "version": 3
   },
   "file_extension": ".py",
   "mimetype": "text/x-python",
   "name": "python",
   "nbconvert_exporter": "python",
   "pygments_lexer": "ipython3",
   "version": "3.6.5"
  }
 },
 "nbformat": 4,
 "nbformat_minor": 4
}
